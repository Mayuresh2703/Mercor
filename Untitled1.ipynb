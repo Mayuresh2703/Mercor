{
 "cells": [
  {
   "cell_type": "code",
   "execution_count": 1,
   "id": "5849efdf",
   "metadata": {
    "scrolled": false
   },
   "outputs": [
    {
     "name": "stdout",
     "output_type": "stream",
     "text": [
      "Requirement already satisfied: pinecone-client in c:\\users\\athar\\appdata\\local\\programs\\python\\python310\\lib\\site-packages (2.2.1)\n",
      "Requirement already satisfied: requests>=2.19.0 in c:\\users\\athar\\appdata\\local\\programs\\python\\python310\\lib\\site-packages (from pinecone-client) (2.27.1)\n",
      "Requirement already satisfied: pyyaml>=5.4 in c:\\users\\athar\\appdata\\local\\programs\\python\\python310\\lib\\site-packages (from pinecone-client) (5.4.1)\n",
      "Requirement already satisfied: loguru>=0.5.0 in c:\\users\\athar\\appdata\\local\\programs\\python\\python310\\lib\\site-packages (from pinecone-client) (0.7.0)\n",
      "Requirement already satisfied: typing-extensions>=3.7.4 in c:\\users\\athar\\appdata\\local\\programs\\python\\python310\\lib\\site-packages (from pinecone-client) (4.2.0)\n",
      "Requirement already satisfied: dnspython>=2.0.0 in c:\\users\\athar\\appdata\\local\\programs\\python\\python310\\lib\\site-packages (from pinecone-client) (2.3.0)\n",
      "Requirement already satisfied: python-dateutil>=2.5.3 in c:\\users\\athar\\appdata\\local\\programs\\python\\python310\\lib\\site-packages (from pinecone-client) (2.8.2)\n",
      "Requirement already satisfied: urllib3>=1.21.1 in c:\\users\\athar\\appdata\\local\\programs\\python\\python310\\lib\\site-packages (from pinecone-client) (1.24.3)\n",
      "Requirement already satisfied: tqdm>=4.64.1 in c:\\users\\athar\\appdata\\local\\programs\\python\\python310\\lib\\site-packages (from pinecone-client) (4.65.0)\n",
      "Requirement already satisfied: numpy in c:\\users\\athar\\appdata\\local\\programs\\python\\python310\\lib\\site-packages (from pinecone-client) (1.22.2)\n",
      "Requirement already satisfied: colorama>=0.3.4 in c:\\users\\athar\\appdata\\local\\programs\\python\\python310\\lib\\site-packages (from loguru>=0.5.0->pinecone-client) (0.4.4)\n",
      "Requirement already satisfied: win32-setctime>=1.0.0 in c:\\users\\athar\\appdata\\local\\programs\\python\\python310\\lib\\site-packages (from loguru>=0.5.0->pinecone-client) (1.1.0)\n",
      "Requirement already satisfied: six>=1.5 in c:\\users\\athar\\appdata\\local\\programs\\python\\python310\\lib\\site-packages (from python-dateutil>=2.5.3->pinecone-client) (1.12.0)\n",
      "Requirement already satisfied: certifi>=2017.4.17 in c:\\users\\athar\\appdata\\local\\programs\\python\\python310\\lib\\site-packages (from requests>=2.19.0->pinecone-client) (2021.10.8)\n"
     ]
    },
    {
     "name": "stderr",
     "output_type": "stream",
     "text": [
      "WARNING: Ignoring invalid distribution - (c:\\users\\athar\\appdata\\local\\programs\\python\\python310\\lib\\site-packages)\n",
      "WARNING: Ignoring invalid distribution -pencv-python (c:\\users\\athar\\appdata\\local\\programs\\python\\python310\\lib\\site-packages)\n",
      "WARNING: Ignoring invalid distribution -rotobuf (c:\\users\\athar\\appdata\\local\\programs\\python\\python310\\lib\\site-packages)\n",
      "WARNING: Ignoring invalid distribution - (c:\\users\\athar\\appdata\\local\\programs\\python\\python310\\lib\\site-packages)\n",
      "WARNING: Ignoring invalid distribution -pencv-python (c:\\users\\athar\\appdata\\local\\programs\\python\\python310\\lib\\site-packages)\n",
      "WARNING: Ignoring invalid distribution -rotobuf (c:\\users\\athar\\appdata\\local\\programs\\python\\python310\\lib\\site-packages)\n"
     ]
    },
    {
     "name": "stdout",
     "output_type": "stream",
     "text": [
      "Requirement already satisfied: charset-normalizer~=2.0.0 in c:\\users\\athar\\appdata\\local\\programs\\python\\python310\\lib\\site-packages (from requests>=2.19.0->pinecone-client) (2.0.12)\n",
      "Requirement already satisfied: idna<4,>=2.5 in c:\\users\\athar\\appdata\\local\\programs\\python\\python310\\lib\\site-packages (from requests>=2.19.0->pinecone-client) (2.8)\n"
     ]
    }
   ],
   "source": [
    "!pip3 install pinecone-client"
   ]
  },
  {
   "cell_type": "code",
   "execution_count": 2,
   "id": "bfb2ce69",
   "metadata": {},
   "outputs": [
    {
     "name": "stdout",
     "output_type": "stream",
     "text": [
      "Requirement already satisfied: pinecone-client[grpc] in c:\\users\\athar\\appdata\\local\\programs\\python\\python310\\lib\\site-packages (2.2.1)\n",
      "Requirement already satisfied: requests>=2.19.0 in c:\\users\\athar\\appdata\\local\\programs\\python\\python310\\lib\\site-packages (from pinecone-client[grpc]) (2.27.1)\n",
      "Requirement already satisfied: pyyaml>=5.4 in c:\\users\\athar\\appdata\\local\\programs\\python\\python310\\lib\\site-packages (from pinecone-client[grpc]) (5.4.1)\n",
      "Requirement already satisfied: loguru>=0.5.0 in c:\\users\\athar\\appdata\\local\\programs\\python\\python310\\lib\\site-packages (from pinecone-client[grpc]) (0.7.0)\n",
      "Requirement already satisfied: typing-extensions>=3.7.4 in c:\\users\\athar\\appdata\\local\\programs\\python\\python310\\lib\\site-packages (from pinecone-client[grpc]) (4.2.0)\n",
      "Requirement already satisfied: dnspython>=2.0.0 in c:\\users\\athar\\appdata\\local\\programs\\python\\python310\\lib\\site-packages (from pinecone-client[grpc]) (2.3.0)\n",
      "Requirement already satisfied: python-dateutil>=2.5.3 in c:\\users\\athar\\appdata\\local\\programs\\python\\python310\\lib\\site-packages (from pinecone-client[grpc]) (2.8.2)\n",
      "Requirement already satisfied: urllib3>=1.21.1 in c:\\users\\athar\\appdata\\local\\programs\\python\\python310\\lib\\site-packages (from pinecone-client[grpc]) (1.24.3)\n",
      "Requirement already satisfied: tqdm>=4.64.1 in c:\\users\\athar\\appdata\\local\\programs\\python\\python310\\lib\\site-packages (from pinecone-client[grpc]) (4.65.0)\n",
      "Requirement already satisfied: numpy in c:\\users\\athar\\appdata\\local\\programs\\python\\python310\\lib\\site-packages (from pinecone-client[grpc]) (1.22.2)\n",
      "Requirement already satisfied: grpcio>=1.44.0 in c:\\users\\athar\\appdata\\local\\programs\\python\\python310\\lib\\site-packages (from pinecone-client[grpc]) (1.44.0)\n",
      "Requirement already satisfied: grpc-gateway-protoc-gen-openapiv2==0.1.0 in c:\\users\\athar\\appdata\\local\\programs\\python\\python310\\lib\\site-packages (from pinecone-client[grpc]) (0.1.0)\n",
      "Requirement already satisfied: googleapis-common-protos>=1.53.0 in c:\\users\\athar\\appdata\\local\\programs\\python\\python310\\lib\\site-packages (from pinecone-client[grpc]) (1.56.0)\n",
      "Requirement already satisfied: lz4>=3.1.3 in c:\\users\\athar\\appdata\\local\\programs\\python\\python310\\lib\\site-packages (from pinecone-client[grpc]) (4.3.2)\n"
     ]
    },
    {
     "name": "stderr",
     "output_type": "stream",
     "text": [
      "WARNING: Ignoring invalid distribution - (c:\\users\\athar\\appdata\\local\\programs\\python\\python310\\lib\\site-packages)\n",
      "WARNING: Ignoring invalid distribution -pencv-python (c:\\users\\athar\\appdata\\local\\programs\\python\\python310\\lib\\site-packages)\n",
      "WARNING: Ignoring invalid distribution -rotobuf (c:\\users\\athar\\appdata\\local\\programs\\python\\python310\\lib\\site-packages)\n",
      "WARNING: Ignoring invalid distribution - (c:\\users\\athar\\appdata\\local\\programs\\python\\python310\\lib\\site-packages)\n",
      "WARNING: Ignoring invalid distribution -pencv-python (c:\\users\\athar\\appdata\\local\\programs\\python\\python310\\lib\\site-packages)\n",
      "WARNING: Ignoring invalid distribution -rotobuf (c:\\users\\athar\\appdata\\local\\programs\\python\\python310\\lib\\site-packages)\n"
     ]
    },
    {
     "name": "stdout",
     "output_type": "stream",
     "text": [
      "Requirement already satisfied: protobuf==3.19.3 in c:\\users\\athar\\appdata\\local\\programs\\python\\python310\\lib\\site-packages (from pinecone-client[grpc]) (3.19.3)\n",
      "Requirement already satisfied: six>=1.5.2 in c:\\users\\athar\\appdata\\local\\programs\\python\\python310\\lib\\site-packages (from grpcio>=1.44.0->pinecone-client[grpc]) (1.12.0)\n",
      "Requirement already satisfied: colorama>=0.3.4 in c:\\users\\athar\\appdata\\local\\programs\\python\\python310\\lib\\site-packages (from loguru>=0.5.0->pinecone-client[grpc]) (0.4.4)\n",
      "Requirement already satisfied: win32-setctime>=1.0.0 in c:\\users\\athar\\appdata\\local\\programs\\python\\python310\\lib\\site-packages (from loguru>=0.5.0->pinecone-client[grpc]) (1.1.0)\n",
      "Requirement already satisfied: certifi>=2017.4.17 in c:\\users\\athar\\appdata\\local\\programs\\python\\python310\\lib\\site-packages (from requests>=2.19.0->pinecone-client[grpc]) (2021.10.8)\n",
      "Requirement already satisfied: charset-normalizer~=2.0.0 in c:\\users\\athar\\appdata\\local\\programs\\python\\python310\\lib\\site-packages (from requests>=2.19.0->pinecone-client[grpc]) (2.0.12)\n",
      "Requirement already satisfied: idna<4,>=2.5 in c:\\users\\athar\\appdata\\local\\programs\\python\\python310\\lib\\site-packages (from requests>=2.19.0->pinecone-client[grpc]) (2.8)\n"
     ]
    }
   ],
   "source": [
    "!pip3 install \"pinecone-client[grpc]\""
   ]
  },
  {
   "cell_type": "code",
   "execution_count": 17,
   "id": "547a79cc",
   "metadata": {},
   "outputs": [],
   "source": [
    "import pinecone\n",
    "\n",
    "pinecone.init(api_key=\"6590d6c6-3fda-495c-946b-d288ead59c1d\", environment=\"asia-southeast1-gcp-free\")\n",
    "\n",
    "pinecone.create_index(\"example-index\", dimension=4)"
   ]
  },
  {
   "cell_type": "code",
   "execution_count": 4,
   "id": "f2638307",
   "metadata": {},
   "outputs": [],
   "source": [
    "from tqdm.autonotebook import tqdm"
   ]
  },
  {
   "cell_type": "code",
   "execution_count": 5,
   "id": "b2c78b6f",
   "metadata": {},
   "outputs": [],
   "source": [
    "import pinecone\n",
    "\n",
    "pinecone.init(api_key=\"6590d6c6-3fda-495c-946b-d288ead59c1d\", environment=\"asia-southeast1-gcp-free\")\n",
    "\n",
    "active_indexes = pinecone.list_indexes()"
   ]
  },
  {
   "cell_type": "code",
   "execution_count": 7,
   "id": "ce3b0a33",
   "metadata": {},
   "outputs": [],
   "source": [
    "import pinecone\n",
    "\n",
    "pinecone.init(api_key=\"6590d6c6-3fda-495c-946b-d288ead59c1d\", environment=\"asia-southeast1-gcp-free\")\n",
    "\n",
    "index_description = pinecone.describe_index(\"example-index\")"
   ]
  },
  {
   "cell_type": "code",
   "execution_count": 16,
   "id": "0d116ad6",
   "metadata": {},
   "outputs": [],
   "source": [
    "import pinecone\n",
    "\n",
    "pinecone.init(api_key=\"6590d6c6-3fda-495c-946b-d288ead59c1d\", environment=\"asia-southeast1-gcp-free\")\n",
    "\n",
    "pinecone.delete_index(\"example-index\")"
   ]
  },
  {
   "cell_type": "code",
   "execution_count": 14,
   "id": "fa632b2f",
   "metadata": {},
   "outputs": [],
   "source": [
    "import pinecone\n",
    "\n",
    "pinecone.init(api_key=\"6590d6c6-3fda-495c-946b-d288ead59c1d\", environment=\"asia-southeast1-gcp-free\")\n",
    "index = pinecone.Index(\"example-index\")\n",
    "\n",
    "index_stats_response = index.describe_index_stats()"
   ]
  },
  {
   "cell_type": "code",
   "execution_count": 18,
   "id": "868513e2",
   "metadata": {},
   "outputs": [],
   "source": [
    "import pinecone\n",
    "\n",
    "pinecone.init(api_key=\"6590d6c6-3fda-495c-946b-d288ead59c1d\", environment=\"asia-southeast1-gcp-free\")\n",
    "index = pinecone.Index(\"example-index\")\n",
    "\n",
    "upsert_response = index.upsert(\n",
    "    vectors=[\n",
    "        (\n",
    "         \"vec1\",                # Vector ID \n",
    "         [0.1, 0.2, 0.3, 0.4],  # Dense vector values\n",
    "         {\"genre\": \"drama\"}     # Vector metadata\n",
    "        ),\n",
    "        (\n",
    "         \"vec2\", \n",
    "         [0.2, 0.3, 0.4, 0.5], \n",
    "         {\"genre\": \"action\"}\n",
    "        )\n",
    "    ],\n",
    "    namespace=\"example-namespace\"\n",
    ")"
   ]
  },
  {
   "cell_type": "code",
   "execution_count": 20,
   "id": "450ed0a6",
   "metadata": {},
   "outputs": [],
   "source": [
    "import pinecone\n",
    "\n",
    "pinecone.init(api_key=\"6590d6c6-3fda-495c-946b-d288ead59c1d\", environment=\"asia-southeast1-gcp-free\")\n",
    "index = pinecone.Index(\"example-index\")\n",
    "\n",
    "query_response = index.query(\n",
    "    namespace=\"example-namespace\",\n",
    "    top_k=10,\n",
    "    include_values=True,\n",
    "    include_metadata=True,\n",
    "    vector=[0.1, 0.2, 0.3, 0.4],\n",
    "    filter={\n",
    "        \"genre\": {\"$in\": [\"comedy\", \"documentary\", \"drama\"]}\n",
    "    }\n",
    ")"
   ]
  },
  {
   "cell_type": "code",
   "execution_count": 21,
   "id": "21949432",
   "metadata": {},
   "outputs": [],
   "source": [
    "import pinecone\n",
    "\n",
    "pinecone.init(api_key=\"6590d6c6-3fda-495c-946b-d288ead59c1d\", environment=\"asia-southeast1-gcp-free\")\n",
    "index = pinecone.Index(\"example-index\")\n",
    "\n",
    "fetch_response = index.fetch(ids=[\"vec1\", \"vec2\"], namespace=\"example-namespace\")"
   ]
  },
  {
   "cell_type": "code",
   "execution_count": 23,
   "id": "feaf5d9c",
   "metadata": {},
   "outputs": [],
   "source": [
    "import pinecone\n",
    "\n",
    "pinecone.init(api_key=\"6590d6c6-3fda-495c-946b-d288ead59c1d\", environment=\"asia-southeast1-gcp-free\")\n",
    "index = pinecone.Index(\"example-index\")\n",
    "\n",
    "update_response = index.update(\n",
    "    id=\"vec1\",\n",
    "    values=[0.1, 0.2, 0.3, 0.4],\n",
    "    set_metadata={\"genre\": \"drama\"},\n",
    "    namespace=\"example-namespace\"\n",
    ")"
   ]
  },
  {
   "cell_type": "code",
   "execution_count": 24,
   "id": "20ac14b9",
   "metadata": {},
   "outputs": [],
   "source": [
    "##COLLECTION"
   ]
  },
  {
   "cell_type": "code",
   "execution_count": 25,
   "id": "86c98a77",
   "metadata": {},
   "outputs": [],
   "source": [
    "import pinecone\n",
    "\n",
    "pinecone.init(api_key=\"6590d6c6-3fda-495c-946b-d288ead59c1d\",\n",
    "              environment=\"asia-southeast1-gcp-free\")\n",
    "\n",
    "pinecone.create_collection(\"example-collection\", \"example-index\")"
   ]
  },
  {
   "cell_type": "code",
   "execution_count": 26,
   "id": "fb343e90",
   "metadata": {},
   "outputs": [],
   "source": [
    "import pinecone\n",
    "\n",
    "pinecone.init(api_key=\"6590d6c6-3fda-495c-946b-d288ead59c1d\", environment=\"asia-southeast1-gcp-free\")\n",
    "\n",
    "active_collections = pinecone.list_collections()"
   ]
  },
  {
   "cell_type": "code",
   "execution_count": 27,
   "id": "38638c98",
   "metadata": {},
   "outputs": [],
   "source": [
    "import pinecone\n",
    "\n",
    "pinecone.init(api_key=\"6590d6c6-3fda-495c-946b-d288ead59c1d\", environment=\"asia-southeast1-gcp-free\")\n",
    "\n",
    "collection_description = pinecone.describe_collection(\"example-collection\")"
   ]
  },
  {
   "cell_type": "code",
   "execution_count": 28,
   "id": "e5220086",
   "metadata": {},
   "outputs": [],
   "source": [
    "import pinecone\n",
    "\n",
    "pinecone.init(api_key=\"6590d6c6-3fda-495c-946b-d288ead59c1d\", environment=\"asia-southeast1-gcp-free\")\n",
    "\n",
    "pinecone.delete_collection(\"example-collection\")"
   ]
  },
  {
   "cell_type": "code",
   "execution_count": null,
   "id": "36efd97b",
   "metadata": {},
   "outputs": [],
   "source": []
  }
 ],
 "metadata": {
  "kernelspec": {
   "display_name": "Python 3 (ipykernel)",
   "language": "python",
   "name": "python3"
  },
  "language_info": {
   "codemirror_mode": {
    "name": "ipython",
    "version": 3
   },
   "file_extension": ".py",
   "mimetype": "text/x-python",
   "name": "python",
   "nbconvert_exporter": "python",
   "pygments_lexer": "ipython3",
   "version": "3.10.2"
  }
 },
 "nbformat": 4,
 "nbformat_minor": 5
}
